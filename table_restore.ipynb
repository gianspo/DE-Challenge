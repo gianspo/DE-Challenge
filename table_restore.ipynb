{
 "cells": [
  {
   "cell_type": "code",
   "execution_count": null,
   "id": "4829a64e",
   "metadata": {},
   "outputs": [],
   "source": [
    "pip install mysql-connector-python\n",
    "pip install pandavro"
   ]
  },
  {
   "cell_type": "code",
   "execution_count": null,
   "id": "b7470b94",
   "metadata": {},
   "outputs": [],
   "source": [
    "import pandas as pd\n",
    "import numpy as np\n",
    "import mysql.connector as mysql\n",
    "from mysql.connector import Error\n",
    "import os\n",
    "import pandavro as pdx\n"
   ]
  },
  {
   "cell_type": "code",
   "execution_count": null,
   "id": "f3a76fc0",
   "metadata": {},
   "outputs": [],
   "source": [
    "dir_path = r'C:\\Users\\gian.spoletini\\Documents\\DE Challenge\\CSV'\n",
    "avro_path = r'C:\\Users\\gian.spoletini\\Documents\\DE Challenge\\AVRO'"
   ]
  },
  {
   "cell_type": "code",
   "execution_count": null,
   "id": "2d303b52",
   "metadata": {},
   "outputs": [],
   "source": [
    "try:\n",
    "    conn = mysql.connect(host='127.0.0.1', user='root',  \n",
    "                        password='root')#give ur username, password\n",
    "    if conn.is_connected():\n",
    "        cursor = conn.cursor()\n",
    "        cursor.execute(\"USE MIGRATION\")\n",
    "except Error as e:\n",
    "    print(\"Error while connecting to MySQL\", e)"
   ]
  },
  {
   "cell_type": "code",
   "execution_count": null,
   "id": "f664420c",
   "metadata": {},
   "outputs": [],
   "source": [
    "file_paths = []\n",
    "file_names = []\n",
    "for path in os.listdir(dir_path):\n",
    "    # check if current path is a file\n",
    "    if os.path.isfile(os.path.join(dir_path, path)):\n",
    "        file_paths.append(path)\n",
    "        file_names.append(os.path.splitext(path)[0])\n",
    "print(file_paths)\n",
    "print(file_names)"
   ]
  },
  {
   "cell_type": "code",
   "execution_count": null,
   "id": "c4035bae",
   "metadata": {},
   "outputs": [],
   "source": [
    "for path in file_paths:\n",
    "    avro_file = path.replace(\".csv\", \".avro\")\n",
    "    avro_complete_path = rf'{avro_path}\\{avro_file}'\n",
    "    try:\n",
    "        df_avro = pdx.read_avro(avro_complete_path)\n",
    "    except:\n",
    "        pass \n",
    "    file_name = path.split(\".\")[0]\n",
    "    \n",
    "    \n",
    "    for i,row in df_avro.iterrows():\n",
    "        try:\n",
    "            sql = \"INSERT INTO Migration.\"+file_name+\" VALUES (\"+(df_csv.shape[1]*\"%s,\")[:-1]+\")\"\n",
    "            print(sql)\n",
    "            cursor.execute(sql, tuple(row))\n",
    "            conn.commit()\n",
    "        except Error as e:\n",
    "            str(e).replace(\"'\",\"\")\n",
    "            print(e)\n",
    "            error_sql = \"INSERT INTO Migration.error_log VALUES (1,'\"+ str(file_name) +\"' , \"+ str(row[0])+\" , '\"+ str(e) +\")\"\n",
    "            print (error_sql)  \n",
    "            cursor.execute(error_sql, tuple(row))\n",
    "            conn.commit()\n",
    "\n",
    "    "
   ]
  }
 ],
 "metadata": {
  "kernelspec": {
   "display_name": "Python 3 (ipykernel)",
   "language": "python",
   "name": "python3"
  },
  "language_info": {
   "codemirror_mode": {
    "name": "ipython",
    "version": 3
   },
   "file_extension": ".py",
   "mimetype": "text/x-python",
   "name": "python",
   "nbconvert_exporter": "python",
   "pygments_lexer": "ipython3",
   "version": "3.9.7"
  }
 },
 "nbformat": 4,
 "nbformat_minor": 5
}
